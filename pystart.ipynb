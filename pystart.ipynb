{
 "cells": [
  {
   "cell_type": "code",
   "execution_count": null,
   "metadata": {},
   "outputs": [],
   "source": [
    "# Crtl + Shift + S = Save As\n",
    "from platform import python_version\n",
    "print('python version:' , python_version())\n",
    "import pandas as pd\n",
    "print('pandas: {}'.format(pd.__version__))\n",
    "import numpy as np\n",
    "print('numpy: ', np.__version__)\n",
    "import plotly\n",
    "import chart_studio.plotly as py\n",
    "import plotly.express as px\n",
    "import plotly.graph_objects as go\n",
    "import cufflinks as cf\n",
    "print('cufflinks: ', cf.__version__)\n",
    "import seaborn as sns\n",
    "print('seaborn: ', sns.__version__)\n",
    "import matplotlib\n",
    "print('matplotlib: ', matplotlib.__version__)\n",
    "import matplotlib.pyplot as plt\n",
    "import altair as alt\n",
    "import re\n",
    "import pandas_profiling\n",
    "import os\n",
    "%matplotlib inline\n",
    "print('Current Path: ',os.getcwd())\n",
    "userpath = os.getcwd()"
   ]
  },
  {
   "cell_type": "code",
   "execution_count": null,
   "metadata": {},
   "outputs": [],
   "source": [
    "userpath = input()\n",
    "os.chdir(userpath)\n",
    "os.getcwd()"
   ]
  },
  {
   "cell_type": "code",
   "execution_count": null,
   "metadata": {},
   "outputs": [],
   "source": [
    "data = pd.read_excel('filepath.extension', sheet_name='sheetname', header=True/False)\n",
    "\n",
    "#display data for validation\n",
    "data.head()\n",
    "\n",
    "#display data type\n",
    "data.dtypes\n",
    "\n",
    "#display the shape of the data [rows, columns]\n",
    "data.shape\n",
    "\n",
    "# get info if the shape isn't too big\n",
    "data.info()"
   ]
  },
  {
   "cell_type": "code",
   "execution_count": null,
   "metadata": {},
   "outputs": [],
   "source": [
    "#Data information\n",
    "#pandas_profiling.ProfileReport(data)\n",
    "\n",
    "\"\"\"\"\n",
    "# Create a Pandas Excel writer using XlsxWriter as the engine.\n",
    "writer = pd.ExcelWriter('test.xlsx', engine='xlsxwriter')\n",
    "\n",
    " # Write each dataframe to a different worksheet. you could write different string like above if you want\n",
    "df1.to_excel(writer, sheet_name='Sheet1')\n",
    "df2.to_excel(writer, sheet_name='Sheet2')\n",
    "\n",
    "# Close the Pandas Excel writer and output the Excel file.\n",
    "writer.save() \"\"\""
   ]
  }
 ],
 "metadata": {
  "kernelspec": {
   "display_name": "Python 3.10.6 64-bit",
   "language": "python",
   "name": "python3"
  },
  "language_info": {
   "name": "python",
   "version": "3.10.6"
  },
  "orig_nbformat": 4,
  "vscode": {
   "interpreter": {
    "hash": "5cb1ef11ec766c7826b560d26d076a0d6e5f13e43ea62d04b5074e93f45ed504"
   }
  }
 },
 "nbformat": 4,
 "nbformat_minor": 2
}
